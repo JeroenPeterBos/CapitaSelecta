{
 "cells": [
  {
   "cell_type": "markdown",
   "metadata": {},
   "source": [
    "# Dataset\n",
    "Test environment for constructing a fast `tensorflow.data.Dataset`."
   ]
  },
  {
   "cell_type": "code",
   "execution_count": 1,
   "metadata": {},
   "outputs": [],
   "source": [
    "import tensorflow as tf\n",
    "import numpy as np\n",
    "from tensorflow.data import Dataset"
   ]
  },
  {
   "cell_type": "code",
   "execution_count": 2,
   "metadata": {},
   "outputs": [],
   "source": [
    "import os\n",
    "from dmv.data import _benchmark, DataContainer\n",
    "\n",
    "data_folder = r'C:\\Users\\jeroe\\data\\MURA\\MURA-v1.1\\small'"
   ]
  },
  {
   "cell_type": "code",
   "execution_count": 3,
   "metadata": {},
   "outputs": [],
   "source": [
    "train_dc = DataContainer(data_folder, train=True, multi=True, sample_frac=1.)\n",
    "valid_dc = DataContainer(data_folder, train=False, multi=True, sample_frac=1.)"
   ]
  },
  {
   "cell_type": "code",
   "execution_count": 4,
   "metadata": {},
   "outputs": [
    {
     "name": "stdout",
     "output_type": "stream",
     "text": [
      "Execution time: 14.632684099999999\n",
      "Loaded batches: 1683\n"
     ]
    }
   ],
   "source": [
    "# Uncached\n",
    "_benchmark(train_dc._ds)"
   ]
  },
  {
   "cell_type": "code",
   "execution_count": 5,
   "metadata": {},
   "outputs": [
    {
     "name": "stdout",
     "output_type": "stream",
     "text": [
      "Execution time: 3.8448977000000006\n",
      "Loaded batches: 1683\n"
     ]
    }
   ],
   "source": [
    "# Cached\n",
    "_benchmark(train_dc._ds)"
   ]
  },
  {
   "cell_type": "markdown",
   "metadata": {},
   "source": [
    "## Artifacts of development\n",
    "Below are some artifacts of the development of the data container. They are probably broken but could be insightfull."
   ]
  },
  {
   "cell_type": "code",
   "execution_count": null,
   "metadata": {},
   "outputs": [],
   "source": [
    "df_train = mura_meta(os.path.join(data_folder, 'MURA-v1.1', 'train_image_paths.csv'))\n",
    "df_valid = mura_meta(os.path.join(data_folder, 'MURA-v1.1', 'valid_image_paths.csv'))\n",
    "\n",
    "df_train_small = df_train.head(500)"
   ]
  },
  {
   "cell_type": "code",
   "execution_count": 10,
   "metadata": {},
   "outputs": [],
   "source": [
    "pdf = df_train_small.copy()"
   ]
  },
  {
   "cell_type": "code",
   "execution_count": 16,
   "metadata": {},
   "outputs": [
    {
     "data": {
      "text/plain": [
       "['C:\\\\Users\\\\jeroe\\\\data\\\\MURA\\\\MURA-v1.1\\\\small\\\\MURA-v1.1/train/XR_ELBOW/patient00011/study1_negative\\\\image1.png',\n",
       " 'C:\\\\Users\\\\jeroe\\\\data\\\\MURA\\\\MURA-v1.1\\\\small\\\\MURA-v1.1/train/XR_ELBOW/patient00011/study1_negative\\\\image2.png',\n",
       " 'C:\\\\Users\\\\jeroe\\\\data\\\\MURA\\\\MURA-v1.1\\\\small\\\\MURA-v1.1/train/XR_ELBOW/patient00011/study1_negative\\\\image3.png']"
      ]
     },
     "execution_count": 16,
     "metadata": {},
     "output_type": "execute_result"
    }
   ],
   "source": [
    "pdf['_img_files'] = pdf.apply(lambda r: [os.path.join(data_folder, r['folder'], img_file) for img_file in r['file']], axis=1)\n",
    "pdf['_img_files'][0]"
   ]
  },
  {
   "cell_type": "code",
   "execution_count": 3,
   "metadata": {},
   "outputs": [],
   "source": [
    "import math\n",
    "\n",
    "def decode_img(path):\n",
    "    img = tf.io.read_file(path)\n",
    "    img = tf.io.decode_png(img, channels=1)\n",
    "    img = tf.image.resize_with_crop_or_pad(img, 128, 128)\n",
    "    img = tf.image.convert_image_dtype(img, dtype=tf.float16)\n",
    "    \n",
    "    return img\n",
    "\n",
    "def mura_dataset(root, df, augmentation=None, multi=False, batch_size=8):\n",
    "    # Since we use a buffered sample, it makes sense to first shuffle the entire dataset\n",
    "    df = df.sample(frac=1)\n",
    "    \n",
    "    if multi:\n",
    "        output_shape = [None]\n",
    "    else:\n",
    "        output_shape = []\n",
    "        df = df.explode('file')\n",
    "        \n",
    "    def gen():\n",
    "        for index, row in df.iterrows():\n",
    "            if multi:\n",
    "                img = tf.stack([os.path.join(root, row['folder'], img_file) for img_file in row['file']])\n",
    "            else:\n",
    "                img = os.path.join(root, row['folder'], row['file'])\n",
    "            \n",
    "            yield(img, row['label'])\n",
    "\n",
    "    ds = Dataset.from_generator(\n",
    "        gen,\n",
    "        (tf.string, tf.int16),\n",
    "        (tf.TensorShape(output_shape), tf.TensorShape([]))\n",
    "    )\n",
    "    \n",
    "    def decode(paths, label):\n",
    "        if multi:\n",
    "            imgs = tf.map_fn(decode_img, paths, fn_output_signature=tf.TensorSpec([128, 128, 1], dtype=tf.float16))\n",
    "        else:\n",
    "            imgs = decode_img(paths)\n",
    "        return imgs, label\n",
    "    \n",
    "    ds = ds.map(decode, num_parallel_calls=tf.data.experimental.AUTOTUNE).cache()\n",
    "    \n",
    "    # Apply the augmentation if an augmentation function is provided\n",
    "    if augmentation is not None:\n",
    "        def tf_augmentation(images, label):\n",
    "            images_shape = images.shape\n",
    "            [image, ] = tf.py_function(augmentation, [image], [tf.float16])\n",
    "            image.set_shape(images_shape)\n",
    "            return image, label\n",
    "        \n",
    "        ds = ds.map(tf_augmentation, num_parallel_calls=tf.data.experimental.AUTOTUNE)\n",
    "    \n",
    "    # A buffer of approximately one fifth the dataset? guestimate\n",
    "    ds = ds \\\n",
    "        .shuffle(buffer_size=df.shape[0] // 5) \\\n",
    "        .padded_batch(batch_size) \\\n",
    "        .prefetch(buffer_size=tf.data.experimental.AUTOTUNE)\n",
    "        \n",
    "    return math.ceil(df.shape[0] / batch_size), ds"
   ]
  },
  {
   "cell_type": "code",
   "execution_count": 4,
   "metadata": {},
   "outputs": [],
   "source": [
    "steps_per_epoch, ds_train = mura_dataset(data_folder, df_train, multi=False)"
   ]
  },
  {
   "cell_type": "code",
   "execution_count": 5,
   "metadata": {},
   "outputs": [
    {
     "name": "stdout",
     "output_type": "stream",
     "text": [
      "Execution time: 5.766947266666667\n"
     ]
    }
   ],
   "source": [
    "_benchmark(ds_train, num_epochs=3, sleep=0.0)"
   ]
  },
  {
   "cell_type": "code",
   "execution_count": 6,
   "metadata": {},
   "outputs": [
    {
     "data": {
      "text/plain": [
       "<matplotlib.image.AxesImage at 0x147212ea8d0>"
      ]
     },
     "execution_count": 6,
     "metadata": {},
     "output_type": "execute_result"
    },
    {
     "data": {
      "image/png": "[encoded data removed]",
      "text/plain": [
       "<Figure size 432x288 with 1 Axes>"
      ]
     },
     "metadata": {
      "needs_background": "light"
     },
     "output_type": "display_data"
    }
   ],
   "source": [
    "import matplotlib.pyplot as plt\n",
    "\n",
    "n = next(iter(ds_train))\n",
    "plt.imshow((n[0][0].numpy() * 255).astype(int))"
   ]
  },
  {
   "cell_type": "code",
   "execution_count": 16,
   "metadata": {},
   "outputs": [
    {
     "data": {
      "text/plain": [
       "[]"
      ]
     },
     "execution_count": 16,
     "metadata": {},
     "output_type": "execute_result"
    }
   ],
   "source": [
    "[2, 3, 4][:-3]"
   ]
  },
  {
   "cell_type": "code",
   "execution_count": null,
   "metadata": {},
   "outputs": [],
   "source": []
  }
 ],
 "metadata": {
  "kernelspec": {
   "display_name": "Python 3",
   "language": "python",
   "name": "python3"
  },
  "language_info": {
   "codemirror_mode": {
    "name": "ipython",
    "version": 3
   },
   "file_extension": ".py",
   "mimetype": "text/x-python",
   "name": "python",
   "nbconvert_exporter": "python",
   "pygments_lexer": "ipython3",
   "version": "3.6.12"
  }
 },
 "nbformat": 4,
 "nbformat_minor": 4
}
