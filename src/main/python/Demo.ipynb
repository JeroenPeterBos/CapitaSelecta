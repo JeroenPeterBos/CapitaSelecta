{
 "cells": [
  {
   "cell_type": "markdown",
   "metadata": {},
   "source": [
    "# Demo\n",
    "A demonstration notebook showing off how to use the `dmv.data.DataContainer` and the `dmv.layer.DynamicMultiViewRNN`."
   ]
  },
  {
   "cell_type": "code",
   "execution_count": 1,
   "metadata": {},
   "outputs": [
    {
     "data": {
      "text/plain": [
       "[PhysicalDevice(name='/physical_device:GPU:0', device_type='GPU')]"
      ]
     },
     "execution_count": 1,
     "metadata": {},
     "output_type": "execute_result"
    }
   ],
   "source": [
    "import matplotlib.pyplot as plt\n",
    "%matplotlib inline\n",
    "\n",
    "import tensorflow as tf\n",
    "\n",
    "tf.keras.backend.set_floatx('float32')\n",
    "tf.config.list_physical_devices('GPU')"
   ]
  },
  {
   "cell_type": "markdown",
   "metadata": {},
   "source": [
    "## Settings"
   ]
  },
  {
   "cell_type": "code",
   "execution_count": 2,
   "metadata": {},
   "outputs": [],
   "source": [
    "data_folder = r'C:\\Users\\jeroe\\data\\MURA\\MURA-v1.1\\small'\n",
    "multi = False"
   ]
  },
  {
   "cell_type": "markdown",
   "metadata": {},
   "source": [
    "## Data"
   ]
  },
  {
   "cell_type": "code",
   "execution_count": 3,
   "metadata": {},
   "outputs": [],
   "source": [
    "from dmv.data import DataContainer\n",
    "\n",
    "train_dc = DataContainer(data_folder, train=True, multi=multi, category='Shoulder')\n",
    "valid_dc = DataContainer(data_folder, train=False, multi=multi, category='Shoulder')"
   ]
  },
  {
   "cell_type": "code",
   "execution_count": 4,
   "metadata": {},
   "outputs": [
    {
     "name": "stdout",
     "output_type": "stream",
     "text": [
      "tf.Tensor(\n",
      "[[[0. 0. 0.]\n",
      "  [0. 0. 0.]\n",
      "  [0. 0. 0.]\n",
      "  ...\n",
      "  [0. 0. 0.]\n",
      "  [0. 0. 0.]\n",
      "  [0. 0. 0.]]\n",
      "\n",
      " [[0. 0. 0.]\n",
      "  [0. 0. 0.]\n",
      "  [0. 0. 0.]\n",
      "  ...\n",
      "  [0. 0. 0.]\n",
      "  [0. 0. 0.]\n",
      "  [0. 0. 0.]]\n",
      "\n",
      " [[0. 0. 0.]\n",
      "  [0. 0. 0.]\n",
      "  [0. 0. 0.]\n",
      "  ...\n",
      "  [0. 0. 0.]\n",
      "  [0. 0. 0.]\n",
      "  [0. 0. 0.]]\n",
      "\n",
      " ...\n",
      "\n",
      " [[0. 0. 0.]\n",
      "  [0. 0. 0.]\n",
      "  [0. 0. 0.]\n",
      "  ...\n",
      "  [0. 0. 0.]\n",
      "  [0. 0. 0.]\n",
      "  [0. 0. 0.]]\n",
      "\n",
      " [[0. 0. 0.]\n",
      "  [0. 0. 0.]\n",
      "  [0. 0. 0.]\n",
      "  ...\n",
      "  [0. 0. 0.]\n",
      "  [0. 0. 0.]\n",
      "  [0. 0. 0.]]\n",
      "\n",
      " [[0. 0. 0.]\n",
      "  [0. 0. 0.]\n",
      "  [0. 0. 0.]\n",
      "  ...\n",
      "  [0. 0. 0.]\n",
      "  [0. 0. 0.]\n",
      "  [0. 0. 0.]]], shape=(128, 128, 3), dtype=float32) tf.Tensor(1, shape=(), dtype=int16)\n",
      "tf.Tensor(\n",
      "[[[0. 0. 0.]\n",
      "  [0. 0. 0.]\n",
      "  [0. 0. 0.]\n",
      "  ...\n",
      "  [0. 0. 0.]\n",
      "  [0. 0. 0.]\n",
      "  [0. 0. 0.]]\n",
      "\n",
      " [[0. 0. 0.]\n",
      "  [0. 0. 0.]\n",
      "  [0. 0. 0.]\n",
      "  ...\n",
      "  [0. 0. 0.]\n",
      "  [0. 0. 0.]\n",
      "  [0. 0. 0.]]\n",
      "\n",
      " [[0. 0. 0.]\n",
      "  [0. 0. 0.]\n",
      "  [0. 0. 0.]\n",
      "  ...\n",
      "  [0. 0. 0.]\n",
      "  [0. 0. 0.]\n",
      "  [0. 0. 0.]]\n",
      "\n",
      " ...\n",
      "\n",
      " [[0. 0. 0.]\n",
      "  [0. 0. 0.]\n",
      "  [0. 0. 0.]\n",
      "  ...\n",
      "  [0. 0. 0.]\n",
      "  [0. 0. 0.]\n",
      "  [0. 0. 0.]]\n",
      "\n",
      " [[0. 0. 0.]\n",
      "  [0. 0. 0.]\n",
      "  [0. 0. 0.]\n",
      "  ...\n",
      "  [0. 0. 0.]\n",
      "  [0. 0. 0.]\n",
      "  [0. 0. 0.]]\n",
      "\n",
      " [[0. 0. 0.]\n",
      "  [0. 0. 0.]\n",
      "  [0. 0. 0.]\n",
      "  ...\n",
      "  [0. 0. 0.]\n",
      "  [0. 0. 0.]\n",
      "  [0. 0. 0.]]], shape=(128, 128, 3), dtype=float32) tf.Tensor(1, shape=(), dtype=int16)\n",
      "tf.Tensor(\n",
      "[[[0.1764706  0.1764706  0.1764706 ]\n",
      "  [0.17254902 0.17254902 0.17254902]\n",
      "  [0.17254902 0.17254902 0.17254902]\n",
      "  ...\n",
      "  [0.14901961 0.14901961 0.14901961]\n",
      "  [0.14509805 0.14509805 0.14509805]\n",
      "  [0.15294118 0.15294118 0.15294118]]\n",
      "\n",
      " [[0.18039216 0.18039216 0.18039216]\n",
      "  [0.17254902 0.17254902 0.17254902]\n",
      "  [0.17254902 0.17254902 0.17254902]\n",
      "  ...\n",
      "  [0.14117648 0.14117648 0.14117648]\n",
      "  [0.14117648 0.14117648 0.14117648]\n",
      "  [0.14509805 0.14509805 0.14509805]]\n",
      "\n",
      " [[0.18039216 0.18039216 0.18039216]\n",
      "  [0.1764706  0.1764706  0.1764706 ]\n",
      "  [0.1764706  0.1764706  0.1764706 ]\n",
      "  ...\n",
      "  [0.14117648 0.14117648 0.14117648]\n",
      "  [0.14117648 0.14117648 0.14117648]\n",
      "  [0.14117648 0.14117648 0.14117648]]\n",
      "\n",
      " ...\n",
      "\n",
      " [[0.18431373 0.18431373 0.18431373]\n",
      "  [0.18039216 0.18039216 0.18039216]\n",
      "  [0.18039216 0.18039216 0.18039216]\n",
      "  ...\n",
      "  [0.13725491 0.13725491 0.13725491]\n",
      "  [0.14117648 0.14117648 0.14117648]\n",
      "  [0.14509805 0.14509805 0.14509805]]\n",
      "\n",
      " [[0.18431373 0.18431373 0.18431373]\n",
      "  [0.18039216 0.18039216 0.18039216]\n",
      "  [0.18039216 0.18039216 0.18039216]\n",
      "  ...\n",
      "  [0.14117648 0.14117648 0.14117648]\n",
      "  [0.14509805 0.14509805 0.14509805]\n",
      "  [0.14901961 0.14901961 0.14901961]]\n",
      "\n",
      " [[0.18431373 0.18431373 0.18431373]\n",
      "  [0.18431373 0.18431373 0.18431373]\n",
      "  [0.18431373 0.18431373 0.18431373]\n",
      "  ...\n",
      "  [0.14901961 0.14901961 0.14901961]\n",
      "  [0.14901961 0.14901961 0.14901961]\n",
      "  [0.15294118 0.15294118 0.15294118]]], shape=(128, 128, 3), dtype=float32) tf.Tensor(1, shape=(), dtype=int16)\n",
      "tf.Tensor(\n",
      "[[[0.23529413 0.23529413 0.23529413]\n",
      "  [0.2392157  0.2392157  0.2392157 ]\n",
      "  [0.2392157  0.2392157  0.2392157 ]\n",
      "  ...\n",
      "  [0.30980393 0.30980393 0.30980393]\n",
      "  [0.30588236 0.30588236 0.30588236]\n",
      "  [0.30980393 0.30980393 0.30980393]]\n",
      "\n",
      " [[0.23529413 0.23529413 0.23529413]\n",
      "  [0.22352943 0.22352943 0.22352943]\n",
      "  [0.22352943 0.22352943 0.22352943]\n",
      "  ...\n",
      "  [0.2901961  0.2901961  0.2901961 ]\n",
      "  [0.28627452 0.28627452 0.28627452]\n",
      "  [0.29803923 0.29803923 0.29803923]]\n",
      "\n",
      " [[0.227451   0.227451   0.227451  ]\n",
      "  [0.20392159 0.20392159 0.20392159]\n",
      "  [0.18039216 0.18039216 0.18039216]\n",
      "  ...\n",
      "  [0.2784314  0.2784314  0.2784314 ]\n",
      "  [0.2784314  0.2784314  0.2784314 ]\n",
      "  [0.29411766 0.29411766 0.29411766]]\n",
      "\n",
      " ...\n",
      "\n",
      " [[0.24705884 0.24705884 0.24705884]\n",
      "  [0.22352943 0.22352943 0.22352943]\n",
      "  [0.10196079 0.10196079 0.10196079]\n",
      "  ...\n",
      "  [0.3647059  0.3647059  0.3647059 ]\n",
      "  [0.3647059  0.3647059  0.3647059 ]\n",
      "  [0.36862746 0.36862746 0.36862746]]\n",
      "\n",
      " [[0.24313727 0.24313727 0.24313727]\n",
      "  [0.21960786 0.21960786 0.21960786]\n",
      "  [0.10196079 0.10196079 0.10196079]\n",
      "  ...\n",
      "  [0.3647059  0.3647059  0.3647059 ]\n",
      "  [0.3647059  0.3647059  0.3647059 ]\n",
      "  [0.36862746 0.36862746 0.36862746]]\n",
      "\n",
      " [[0.28627452 0.28627452 0.28627452]\n",
      "  [0.227451   0.227451   0.227451  ]\n",
      "  [0.15686275 0.15686275 0.15686275]\n",
      "  ...\n",
      "  [0.36862746 0.36862746 0.36862746]\n",
      "  [0.36862746 0.36862746 0.36862746]\n",
      "  [0.36862746 0.36862746 0.36862746]]], shape=(128, 128, 3), dtype=float32) tf.Tensor(1, shape=(), dtype=int16)\n"
     ]
    },
    {
     "data": {
      "image/png": "[encoded data removed]",
      "text/plain": [
       "<Figure size 432x288 with 4 Axes>"
      ]
     },
     "metadata": {
      "needs_background": "light"
     },
     "output_type": "display_data"
    }
   ],
   "source": [
    "train_dc.show()"
   ]
  },
  {
   "cell_type": "markdown",
   "metadata": {},
   "source": [
    "## Augmentation"
   ]
  },
  {
   "cell_type": "code",
   "execution_count": null,
   "metadata": {},
   "outputs": [],
   "source": []
  },
  {
   "cell_type": "markdown",
   "metadata": {},
   "source": [
    "## Model"
   ]
  },
  {
   "cell_type": "code",
   "execution_count": 5,
   "metadata": {},
   "outputs": [],
   "source": [
    "from tensorflow.keras.applications import DenseNet169\n",
    "from tensorflow.keras.layers import Dense, TimeDistributed, Flatten\n",
    "from tensorflow.keras import Model\n",
    "\n",
    "from dmv.layer import DynamicMultiViewRNN\n",
    "\n",
    "class DynamicMultiViewModel(Model):\n",
    "    def __init__(self, num_classes, input_shape):\n",
    "        super().__init__()\n",
    "        self.base = DenseNet169(include_top=False, input_shape=input_shape)\n",
    "        \n",
    "        self.agg = DynamicMultiViewRNN()\n",
    "        self.dense = Dense(num_classes, activation='sigmoid')\n",
    "    \n",
    "    def call(self, x):\n",
    "        x = TimeDistributed(self.base)(x)\n",
    "        x = TimeDistributed(Flatten())(x)\n",
    "\n",
    "        x = self.agg(x)\n",
    "        x = self.dense(x)\n",
    "\n",
    "        return x"
   ]
  },
  {
   "cell_type": "code",
   "execution_count": 6,
   "metadata": {},
   "outputs": [],
   "source": [
    "class SingleViewModel(Model):\n",
    "    def __init__(self, num_classes, input_shape):\n",
    "        super().__init__()\n",
    "        self.base = DenseNet169(include_top=False, input_shape=input_shape)\n",
    "        self.dense = Dense(100, activation='relu')\n",
    "        self.classify = Dense(num_classes, activation='sigmoid')\n",
    "    \n",
    "    def call(self, x):\n",
    "        x = self.base(x)\n",
    "        x = Flatten()(x)\n",
    "        x = self.dense(x)\n",
    "        x = self.classify(x)\n",
    "        \n",
    "        return x"
   ]
  },
  {
   "cell_type": "markdown",
   "metadata": {},
   "source": [
    "## Instantiating"
   ]
  },
  {
   "cell_type": "code",
   "execution_count": 7,
   "metadata": {},
   "outputs": [
    {
     "name": "stdout",
     "output_type": "stream",
     "text": [
      "Downloading data from https://storage.googleapis.com/tensorflow/keras-applications/densenet/densenet169_weights_tf_dim_ordering_tf_kernels_notop.h5\n",
      "51879936/51877672 [==============================] - 3s 0us/step\n",
      "Model: \"single_view_model\"\n",
      "_________________________________________________________________\n",
      "Layer (type)                 Output Shape              Param #   \n",
      "=================================================================\n",
      "densenet169 (Functional)     (None, 4, 4, 1664)        12642880  \n",
      "_________________________________________________________________\n",
      "dense (Dense)                multiple                  2662500   \n",
      "_________________________________________________________________\n",
      "dense_1 (Dense)              multiple                  101       \n",
      "=================================================================\n",
      "Total params: 15,305,481\n",
      "Trainable params: 15,147,081\n",
      "Non-trainable params: 158,400\n",
      "_________________________________________________________________\n"
     ]
    }
   ],
   "source": [
    "from tensorflow.keras.losses import BinaryCrossentropy\n",
    "\n",
    "if multi:\n",
    "    model = DynamicMultiViewModel(1, train_dc._output_shape[-3:])\n",
    "else:\n",
    "    model = SingleViewModel(1, train_dc._output_shape[-3:])\n",
    "    \n",
    "model.build(tuple([train_dc._batch_size] + train_dc._output_shape))\n",
    "model.compile(optimizer='adam',\n",
    "              loss=BinaryCrossentropy(),\n",
    "              metrics=['accuracy'])\n",
    "model.summary()"
   ]
  },
  {
   "cell_type": "markdown",
   "metadata": {},
   "source": [
    "## Training"
   ]
  },
  {
   "cell_type": "code",
   "execution_count": 8,
   "metadata": {},
   "outputs": [
    {
     "name": "stdout",
     "output_type": "stream",
     "text": [
      "Epoch 1/5\n",
      "1048/1048 [==============================] - 93s 89ms/step - loss: 0.8440 - accuracy: 0.5076 - val_loss: 0.6931 - val_accuracy: 0.5062\n",
      "Epoch 2/5\n",
      "1048/1048 [==============================] - 88s 84ms/step - loss: 0.6932 - accuracy: 0.5016 - val_loss: 0.6931 - val_accuracy: 0.5062\n",
      "Epoch 3/5\n",
      "1048/1048 [==============================] - 90s 86ms/step - loss: 0.6932 - accuracy: 0.5009 - val_loss: 0.6931 - val_accuracy: 0.5062\n",
      "Epoch 4/5\n",
      "1048/1048 [==============================] - 88s 84ms/step - loss: 0.6932 - accuracy: 0.5026 - val_loss: 0.6931 - val_accuracy: 0.5062\n",
      "Epoch 5/5\n",
      "1048/1048 [==============================] - 88s 84ms/step - loss: 0.6935 - accuracy: 0.5002 - val_loss: 0.6931 - val_accuracy: 0.5062\n"
     ]
    },
    {
     "data": {
      "text/plain": [
       "<tensorflow.python.keras.callbacks.History at 0x1cad53326a0>"
      ]
     },
     "execution_count": 8,
     "metadata": {},
     "output_type": "execute_result"
    }
   ],
   "source": [
    "model.fit(\n",
    "    x=train_dc.ds(),\n",
    "    steps_per_epoch=train_dc.batches_per_epoch,\n",
    "    validation_data=valid_dc.ds(),\n",
    "    validation_steps=valid_dc.batches_per_epoch,\n",
    "    epochs=5\n",
    ")"
   ]
  },
  {
   "cell_type": "code",
   "execution_count": null,
   "metadata": {},
   "outputs": [],
   "source": []
  }
 ],
 "metadata": {
  "kernelspec": {
   "display_name": "Python 3",
   "language": "python",
   "name": "python3"
  },
  "language_info": {
   "codemirror_mode": {
    "name": "ipython",
    "version": 3
   },
   "file_extension": ".py",
   "mimetype": "text/x-python",
   "name": "python",
   "nbconvert_exporter": "python",
   "pygments_lexer": "ipython3",
   "version": "3.6.11"
  }
 },
 "nbformat": 4,
 "nbformat_minor": 4
}
